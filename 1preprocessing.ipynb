{
 "cells": [
  {
   "cell_type": "code",
   "execution_count": 5,
   "metadata": {
    "colab": {
     "base_uri": "https://localhost:8080/",
     "height": 34
    },
    "colab_type": "code",
    "executionInfo": {
     "elapsed": 1464,
     "status": "ok",
     "timestamp": 1589382334283,
     "user": {
      "displayName": "Moisés Oliveira",
      "photoUrl": "https://lh3.googleusercontent.com/a-/AOh14Gi3zXARzg3mEYgGoqoQsflEXnzm_wT1KuBZBsB37A=s64",
      "userId": "12199513049896561840"
     },
     "user_tz": 180
    },
    "id": "obP9rpSKlJ0k",
    "outputId": "72dd6396-aa11-4df6-f7ea-fb3901f64c90"
   },
   "outputs": [],
   "source": [
    "\"\"\"\n",
    "from google.colab import drive\n",
    "drive.mount('/content/drive')\n",
    "\n",
    "import os\n",
    "os.chdir('/content/drive/My Drive/Colab Notebooks/tcc')\n",
    "\"\"\"\n",
    "\n",
    "import json\n",
    "from tqdm import tqdm\n",
    "\n",
    "from modules.preprocessing import *"
   ]
  },
  {
   "cell_type": "code",
   "execution_count": 14,
   "metadata": {
    "colab": {
     "base_uri": "https://localhost:8080/",
     "height": 54
    },
    "colab_type": "code",
    "executionInfo": {
     "elapsed": 5646,
     "status": "ok",
     "timestamp": 1589382081031,
     "user": {
      "displayName": "Moisés Oliveira",
      "photoUrl": "https://lh3.googleusercontent.com/a-/AOh14Gi3zXARzg3mEYgGoqoQsflEXnzm_wT1KuBZBsB37A=s64",
      "userId": "12199513049896561840"
     },
     "user_tz": 180
    },
    "id": "p3WfQTxIj5gi",
    "outputId": "3137ec8e-4f4b-4439-b889-abde8a4064cd"
   },
   "outputs": [
    {
     "data": {
      "text/plain": [
       "'\\nphrase = (  \"German Chancellor Angela Merkel and US President Barack Obama \"\\n            \"converse in the Oval Office inside the White House in Washington, D.C. \"\\n            \"health care not work here @moisesoliv\")\\nprepare_text = Tokenizer()\\nwordList = prepare_text.cleanText(phrase)\\nwordList\\n'"
      ]
     },
     "execution_count": 14,
     "metadata": {
      "tags": []
     },
     "output_type": "execute_result"
    }
   ],
   "source": [
    "## Teste\n",
    "\"\"\"\n",
    "phrase = (  \"German Chancellor Angela Merkel and US President Barack Obama \"\n",
    "            \"converse in the Oval Office inside the White House in Washington, D.C. \"\n",
    "            \"health care not work here @moisesoliv\")\n",
    "prepare_text = Tokenizer()\n",
    "wordList = prepare_text.cleanText(phrase)\n",
    "wordList\n",
    "\"\"\""
   ]
  },
  {
   "cell_type": "code",
   "execution_count": 3,
   "metadata": {
    "colab": {
     "base_uri": "https://localhost:8080/",
     "height": 34
    },
    "colab_type": "code",
    "executionInfo": {
     "elapsed": 1930052,
     "status": "ok",
     "timestamp": 1589384276063,
     "user": {
      "displayName": "Moisés Oliveira",
      "photoUrl": "https://lh3.googleusercontent.com/a-/AOh14Gi3zXARzg3mEYgGoqoQsflEXnzm_wT1KuBZBsB37A=s64",
      "userId": "12199513049896561840"
     },
     "user_tz": 180
    },
    "id": "d9IAuMbPnKay",
    "outputId": "35919261-f183-46c4-b3ad-124b78cc7095"
   },
   "outputs": [
    {
     "name": "stderr",
     "output_type": "stream",
     "text": [
      "100%|██████████| 221439/221439 [32:00<00:00, 115.30it/s]\n"
     ]
    }
   ],
   "source": [
    "prepare_text = Tokenizer()\n",
    "with open(\"dataset/unified-dataset.jsonl\", \"r\") as json_file:\n",
    "    json_list = list(json_file)\n",
    "\n",
    "datasets = {\n",
    "    \"text\": list(),\n",
    "    \"tokens\": list(),\n",
    "    \"source\": list(),\n",
    "    \"anger\": list(),\n",
    "    \"disgust\": list(),\n",
    "    \"fear\": list(),\n",
    "    \"joy\": list(),\n",
    "    \"love\": list(),\n",
    "    \"noemo\": list(),\n",
    "    \"sadness\": list(),\n",
    "    \"surprise\": list(),\n",
    "}\n",
    "\n",
    "for json_str in tqdm(json_list):\n",
    "    result = json.loads(json_str)\n",
    "    datasets[\"text\"].append(result[\"text\"])\n",
    "    datasets[\"tokens\"].append(prepare_text.cleanText(result[\"text\"]))\n",
    "    datasets[\"source\"].append(result[\"source\"])\n",
    "    datasets[\"anger\"].append(result[\"emotions\"][\"anger\"])\n",
    "    datasets[\"disgust\"].append(result[\"emotions\"][\"disgust\"])\n",
    "    datasets[\"fear\"].append(result[\"emotions\"][\"fear\"])\n",
    "    datasets[\"joy\"].append(result[\"emotions\"][\"joy\"])\n",
    "    datasets[\"love\"].append(result[\"emotions\"][\"love\"])\n",
    "    datasets[\"noemo\"].append(result[\"emotions\"][\"noemo\"])\n",
    "    datasets[\"sadness\"].append(result[\"emotions\"][\"sadness\"])\n",
    "    datasets[\"surprise\"].append(result[\"emotions\"][\"surprise\"])"
   ]
  },
  {
   "cell_type": "code",
   "execution_count": null,
   "metadata": {
    "colab": {},
    "colab_type": "code",
    "id": "hWvxn2wlucbY"
   },
   "outputs": [],
   "source": [
    "import pickle\n",
    "\n",
    "\n",
    "def save_object(obj, filename):\n",
    "    with open(filename, \"wb\") as output:  # Overwrites any existing file.\n",
    "        pickle.dump(obj, output, pickle.HIGHEST_PROTOCOL)\n",
    "\n",
    "\n",
    "save_object(datasets, \"dataset/organized_dataset.pkl\")"
   ]
  },
  {
   "cell_type": "code",
   "execution_count": null,
   "metadata": {
    "colab": {},
    "colab_type": "code",
    "id": "ibZojLwKZZEw"
   },
   "outputs": [],
   "source": [
    "# More metrics\n",
    "# https://scikit-learn.org/stable/modules/model_evaluation.html\n",
    "# https://nbviewer.jupyter.org/github/autonomio/talos/blob/master/examples/Hyperparameter%20Optimization%20with%20Keras%20for%20the%20Iris%20Prediction.ipynb#seven"
   ]
  }
 ],
 "metadata": {
  "colab": {
   "authorship_tag": "ABX9TyMwC5QDPCS6ymT2ARMuX9TI",
   "collapsed_sections": [],
   "machine_shape": "hm",
   "name": "1 - preprocessing",
   "provenance": []
  },
  "environment": {
   "name": "common-cpu.m46",
   "type": "gcloud",
   "uri": "gcr.io/deeplearning-platform-release/base-cpu:m46"
  },
  "kernelspec": {
   "display_name": "Python 3",
   "language": "python",
   "name": "python3"
  },
  "language_info": {
   "codemirror_mode": {
    "name": "ipython",
    "version": 3
   },
   "file_extension": ".py",
   "mimetype": "text/x-python",
   "name": "python",
   "nbconvert_exporter": "python",
   "pygments_lexer": "ipython3",
   "version": "3.7.6"
  },
  "widgets": {
   "application/vnd.jupyter.widget-state+json": {
    "state": {},
    "version_major": 2,
    "version_minor": 0
   }
  }
 },
 "nbformat": 4,
 "nbformat_minor": 4
}
