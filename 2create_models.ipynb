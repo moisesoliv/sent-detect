{
  "nbformat": 4,
  "nbformat_minor": 0,
  "metadata": {
    "colab": {
      "name": "2create_models.ipynb",
      "provenance": [],
      "collapsed_sections": []
    },
    "environment": {
      "name": "common-cpu.m46",
      "type": "gcloud",
      "uri": "gcr.io/deeplearning-platform-release/base-cpu:m46"
    },
    "kernelspec": {
      "display_name": "Python 3",
      "language": "python",
      "name": "python3"
    },
    "language_info": {
      "codemirror_mode": {
        "name": "ipython",
        "version": 3
      },
      "file_extension": ".py",
      "mimetype": "text/x-python",
      "name": "python",
      "nbconvert_exporter": "python",
      "pygments_lexer": "ipython3",
      "version": "3.7.6"
    },
    "toc": {
      "base_numbering": 1,
      "nav_menu": {},
      "number_sections": false,
      "sideBar": true,
      "skip_h1_title": false,
      "title_cell": "Table of Contents",
      "title_sidebar": "Contents",
      "toc_cell": false,
      "toc_position": {},
      "toc_section_display": true,
      "toc_window_display": false
    }
  },
  "cells": [
    {
      "cell_type": "code",
      "metadata": {
        "id": "GyetTpmit0Pn",
        "colab_type": "code",
        "colab": {
          "base_uri": "https://localhost:8080/",
          "height": 54
        },
        "outputId": "5f7b541f-9d6f-4614-ccf1-521e495ed96f"
      },
      "source": [
        "from google.colab import drive\n",
        "import os\n",
        "\n",
        "drive.mount('/content/drive')\n",
        "os.chdir('/content/drive/My Drive/Colab Notebooks/tcc')"
      ],
      "execution_count": null,
      "outputs": [
        {
          "output_type": "stream",
          "text": [
            "Drive already mounted at /content/drive; to attempt to forcibly remount, call drive.mount(\"/content/drive\", force_remount=True).\n"
          ],
          "name": "stdout"
        }
      ]
    },
    {
      "cell_type": "code",
      "metadata": {
        "ExecuteTime": {
          "end_time": "2020-06-17T15:47:14.817318Z",
          "start_time": "2020-06-17T15:47:06.745515Z"
        },
        "colab_type": "code",
        "id": "gn0UhI7fe1YD",
        "colab": {}
      },
      "source": [
        "import warnings\n",
        "\n",
        "warnings.filterwarnings(\"ignore\")\n",
        "\n",
        "from modules.preprocessing import *\n",
        "import pickle\n",
        "import pandas as pd\n",
        "from tqdm import tqdm\n",
        "import gensim\n",
        "from sklearn.model_selection import train_test_split\n",
        "from imblearn.under_sampling import NearMiss\n",
        "from imblearn.over_sampling import RandomOverSampler\n",
        "import numpy as np\n",
        "import random\n",
        "import tensorflow as tf"
      ],
      "execution_count": null,
      "outputs": []
    },
    {
      "cell_type": "code",
      "metadata": {
        "ExecuteTime": {
          "end_time": "2020-06-17T15:47:16.331731Z",
          "start_time": "2020-06-17T15:47:14.819641Z"
        },
        "colab_type": "code",
        "id": "oD1ujVhle_J0",
        "colab": {
          "base_uri": "https://localhost:8080/",
          "height": 982
        },
        "outputId": "d5b9b084-3d1d-4072-dcfb-77e06a8e9fc6"
      },
      "source": [
        "datasets = pickle.load(open(\"dataset/organized_dataset.pkl\", \"rb\"))\n",
        "\n",
        "df = pd.DataFrame(\n",
        "    datasets,\n",
        "    columns=[\n",
        "        \"text\",\n",
        "        \"tokens\",\n",
        "        \"source\",\n",
        "        \"label\",\n",
        "        \"anger\",\n",
        "        \"disgust\",\n",
        "        \"fear\",\n",
        "        \"joy\",\n",
        "        \"love\",\n",
        "        \"noemo\",\n",
        "        \"sadness\",\n",
        "        \"surprise\",\n",
        "    ],\n",
        ")\n",
        "df.drop_duplicates([\"source\"])"
      ],
      "execution_count": null,
      "outputs": [
        {
          "output_type": "execute_result",
          "data": {
            "text/html": [
              "<div>\n",
              "<style scoped>\n",
              "    .dataframe tbody tr th:only-of-type {\n",
              "        vertical-align: middle;\n",
              "    }\n",
              "\n",
              "    .dataframe tbody tr th {\n",
              "        vertical-align: top;\n",
              "    }\n",
              "\n",
              "    .dataframe thead th {\n",
              "        text-align: right;\n",
              "    }\n",
              "</style>\n",
              "<table border=\"1\" class=\"dataframe\">\n",
              "  <thead>\n",
              "    <tr style=\"text-align: right;\">\n",
              "      <th></th>\n",
              "      <th>text</th>\n",
              "      <th>tokens</th>\n",
              "      <th>source</th>\n",
              "      <th>label</th>\n",
              "      <th>anger</th>\n",
              "      <th>disgust</th>\n",
              "      <th>fear</th>\n",
              "      <th>joy</th>\n",
              "      <th>love</th>\n",
              "      <th>noemo</th>\n",
              "      <th>sadness</th>\n",
              "      <th>surprise</th>\n",
              "    </tr>\n",
              "  </thead>\n",
              "  <tbody>\n",
              "    <tr>\n",
              "      <th>0</th>\n",
              "      <td>Remember what she said in my last letter? \"</td>\n",
              "      <td>[remember, what, she, said, in, my, last, letter]</td>\n",
              "      <td>emobank</td>\n",
              "      <td>NaN</td>\n",
              "      <td>NaN</td>\n",
              "      <td>NaN</td>\n",
              "      <td>NaN</td>\n",
              "      <td>NaN</td>\n",
              "      <td>NaN</td>\n",
              "      <td>NaN</td>\n",
              "      <td>NaN</td>\n",
              "      <td>NaN</td>\n",
              "    </tr>\n",
              "    <tr>\n",
              "      <th>10062</th>\n",
              "      <td>@PressSec sounds so defensive  &amp;amp; combative...</td>\n",
              "      <td>[twitterusername, sounds, so, defensive, amp, ...</td>\n",
              "      <td>grounded_emotions</td>\n",
              "      <td>NaN</td>\n",
              "      <td>NaN</td>\n",
              "      <td>NaN</td>\n",
              "      <td>NaN</td>\n",
              "      <td>0.0</td>\n",
              "      <td>NaN</td>\n",
              "      <td>NaN</td>\n",
              "      <td>1.00</td>\n",
              "      <td>NaN</td>\n",
              "    </tr>\n",
              "    <tr>\n",
              "      <th>12647</th>\n",
              "      <td>@tiffanylue i know  i was listenin to bad habi...</td>\n",
              "      <td>[twitterusername, i, know, i, was, listenin, t...</td>\n",
              "      <td>crowdflower</td>\n",
              "      <td>NaN</td>\n",
              "      <td>0.00</td>\n",
              "      <td>0.00</td>\n",
              "      <td>0.0</td>\n",
              "      <td>0.0</td>\n",
              "      <td>0.0</td>\n",
              "      <td>1.0</td>\n",
              "      <td>0.00</td>\n",
              "      <td>0.0</td>\n",
              "    </tr>\n",
              "    <tr>\n",
              "      <th>52387</th>\n",
              "      <td>I'm a #Republican, but if I have to hear my mo...</td>\n",
              "      <td>[i, 'm, a, republican, but, if, i, have, to, h...</td>\n",
              "      <td>electoraltweets</td>\n",
              "      <td>NaN</td>\n",
              "      <td>0.00</td>\n",
              "      <td>1.00</td>\n",
              "      <td>0.0</td>\n",
              "      <td>0.0</td>\n",
              "      <td>NaN</td>\n",
              "      <td>0.0</td>\n",
              "      <td>0.00</td>\n",
              "      <td>0.0</td>\n",
              "    </tr>\n",
              "    <tr>\n",
              "      <th>56443</th>\n",
              "      <td>Thinks that @melbahughes had a great 50th birt...</td>\n",
              "      <td>[thinks, that, twitterusername, had, a, great,...</td>\n",
              "      <td>tec</td>\n",
              "      <td>NaN</td>\n",
              "      <td>0.00</td>\n",
              "      <td>0.00</td>\n",
              "      <td>0.0</td>\n",
              "      <td>0.0</td>\n",
              "      <td>NaN</td>\n",
              "      <td>NaN</td>\n",
              "      <td>0.00</td>\n",
              "      <td>1.0</td>\n",
              "    </tr>\n",
              "    <tr>\n",
              "      <th>77494</th>\n",
              "      <td>Mortar assault leaves at least 18 dead</td>\n",
              "      <td>[mortar, assault, leaves, atleast18, dead]</td>\n",
              "      <td>affectivetext</td>\n",
              "      <td>NaN</td>\n",
              "      <td>0.22</td>\n",
              "      <td>0.02</td>\n",
              "      <td>0.6</td>\n",
              "      <td>0.0</td>\n",
              "      <td>NaN</td>\n",
              "      <td>NaN</td>\n",
              "      <td>0.64</td>\n",
              "      <td>0.0</td>\n",
              "    </tr>\n",
              "    <tr>\n",
              "      <th>78744</th>\n",
              "      <td>He who exalts himself shall      be humbled; a...</td>\n",
              "      <td>[he, who, exalts, himself, shall, be, humbled,...</td>\n",
              "      <td>ssec</td>\n",
              "      <td>NaN</td>\n",
              "      <td>1.00</td>\n",
              "      <td>1.00</td>\n",
              "      <td>0.0</td>\n",
              "      <td>1.0</td>\n",
              "      <td>NaN</td>\n",
              "      <td>NaN</td>\n",
              "      <td>0.00</td>\n",
              "      <td>0.0</td>\n",
              "    </tr>\n",
              "    <tr>\n",
              "      <th>83612</th>\n",
              "      <td>This did the trick : the boys now have a more ...</td>\n",
              "      <td>[this, did, the, trick, the, boys, now, have, ...</td>\n",
              "      <td>emotion-cause</td>\n",
              "      <td>NaN</td>\n",
              "      <td>0.00</td>\n",
              "      <td>0.00</td>\n",
              "      <td>0.0</td>\n",
              "      <td>1.0</td>\n",
              "      <td>NaN</td>\n",
              "      <td>NaN</td>\n",
              "      <td>0.00</td>\n",
              "      <td>0.0</td>\n",
              "    </tr>\n",
              "    <tr>\n",
              "      <th>86026</th>\n",
              "      <td>The kitchen stinks .</td>\n",
              "      <td>[the, kitchen, stinks]</td>\n",
              "      <td>dailydialog</td>\n",
              "      <td>NaN</td>\n",
              "      <td>0.00</td>\n",
              "      <td>1.00</td>\n",
              "      <td>0.0</td>\n",
              "      <td>0.0</td>\n",
              "      <td>NaN</td>\n",
              "      <td>0.0</td>\n",
              "      <td>0.00</td>\n",
              "      <td>0.0</td>\n",
              "    </tr>\n",
              "    <tr>\n",
              "      <th>189005</th>\n",
              "      <td>@ZubairSabirPTI  pls dont insult the word 'Molna'</td>\n",
              "      <td>[twitterusername, pls, do, nt, insult, the, wo...</td>\n",
              "      <td>emoint</td>\n",
              "      <td>NaN</td>\n",
              "      <td>1.00</td>\n",
              "      <td>NaN</td>\n",
              "      <td>0.0</td>\n",
              "      <td>0.0</td>\n",
              "      <td>NaN</td>\n",
              "      <td>NaN</td>\n",
              "      <td>0.00</td>\n",
              "      <td>NaN</td>\n",
              "    </tr>\n",
              "    <tr>\n",
              "      <th>196107</th>\n",
              "      <td>We'll be off and running to a lil' place calle...</td>\n",
              "      <td>[we, 'll, be, off, and, running, to, a, lil, p...</td>\n",
              "      <td>fb-valence-arousal-anon</td>\n",
              "      <td>NaN</td>\n",
              "      <td>NaN</td>\n",
              "      <td>NaN</td>\n",
              "      <td>NaN</td>\n",
              "      <td>NaN</td>\n",
              "      <td>NaN</td>\n",
              "      <td>NaN</td>\n",
              "      <td>NaN</td>\n",
              "      <td>NaN</td>\n",
              "    </tr>\n",
              "    <tr>\n",
              "      <th>199002</th>\n",
              "      <td>Once upon a time there was a little girl calle...</td>\n",
              "      <td>[once, upon, a, time, there, was, a, little, g...</td>\n",
              "      <td>tales-emotion</td>\n",
              "      <td>NaN</td>\n",
              "      <td>0.00</td>\n",
              "      <td>0.00</td>\n",
              "      <td>0.0</td>\n",
              "      <td>0.0</td>\n",
              "      <td>NaN</td>\n",
              "      <td>1.0</td>\n",
              "      <td>0.00</td>\n",
              "      <td>0.0</td>\n",
              "    </tr>\n",
              "    <tr>\n",
              "      <th>213773</th>\n",
              "      <td>During the period of falling in love, each tim...</td>\n",
              "      <td>[during, the, period, of, falling, in, love, e...</td>\n",
              "      <td>isear</td>\n",
              "      <td>NaN</td>\n",
              "      <td>0.00</td>\n",
              "      <td>0.00</td>\n",
              "      <td>0.0</td>\n",
              "      <td>1.0</td>\n",
              "      <td>NaN</td>\n",
              "      <td>NaN</td>\n",
              "      <td>0.00</td>\n",
              "      <td>NaN</td>\n",
              "    </tr>\n",
              "  </tbody>\n",
              "</table>\n",
              "</div>"
            ],
            "text/plain": [
              "                                                     text  ... surprise\n",
              "0             Remember what she said in my last letter? \"  ...      NaN\n",
              "10062   @PressSec sounds so defensive  &amp; combative...  ...      NaN\n",
              "12647   @tiffanylue i know  i was listenin to bad habi...  ...      0.0\n",
              "52387   I'm a #Republican, but if I have to hear my mo...  ...      0.0\n",
              "56443   Thinks that @melbahughes had a great 50th birt...  ...      1.0\n",
              "77494              Mortar assault leaves at least 18 dead  ...      0.0\n",
              "78744   He who exalts himself shall      be humbled; a...  ...      0.0\n",
              "83612   This did the trick : the boys now have a more ...  ...      0.0\n",
              "86026                                The kitchen stinks .  ...      0.0\n",
              "189005  @ZubairSabirPTI  pls dont insult the word 'Molna'  ...      NaN\n",
              "196107  We'll be off and running to a lil' place calle...  ...      NaN\n",
              "199002  Once upon a time there was a little girl calle...  ...      0.0\n",
              "213773  During the period of falling in love, each tim...  ...      NaN\n",
              "\n",
              "[13 rows x 12 columns]"
            ]
          },
          "metadata": {
            "tags": []
          },
          "execution_count": 3
        }
      ]
    },
    {
      "cell_type": "code",
      "metadata": {
        "colab_type": "code",
        "id": "ro_l2VmCrQG7",
        "colab": {
          "base_uri": "https://localhost:8080/",
          "height": 340
        },
        "outputId": "35cea162-c411-4dd5-bebd-951ef207d7b8"
      },
      "source": [
        "df.info()"
      ],
      "execution_count": null,
      "outputs": [
        {
          "output_type": "stream",
          "text": [
            "<class 'pandas.core.frame.DataFrame'>\n",
            "RangeIndex: 221439 entries, 0 to 221438\n",
            "Data columns (total 12 columns):\n",
            " #   Column    Non-Null Count   Dtype  \n",
            "---  ------    --------------   -----  \n",
            " 0   text      221439 non-null  object \n",
            " 1   tokens    221439 non-null  object \n",
            " 2   source    221439 non-null  object \n",
            " 3   label     0 non-null       object \n",
            " 4   anger     205897 non-null  float64\n",
            " 5   disgust   198795 non-null  float64\n",
            " 6   fear      205897 non-null  float64\n",
            " 7   joy       208482 non-null  float64\n",
            " 8   love      39740 non-null   float64\n",
            " 9   noemo     161546 non-null  float64\n",
            " 10  sadness   208482 non-null  float64\n",
            " 11  surprise  191129 non-null  float64\n",
            "dtypes: float64(8), object(4)\n",
            "memory usage: 20.3+ MB\n"
          ],
          "name": "stdout"
        }
      ]
    },
    {
      "cell_type": "code",
      "metadata": {
        "colab_type": "code",
        "id": "3Kpu6ey9w0CH",
        "colab": {}
      },
      "source": [
        "## config\n",
        "size_word2vec = 300\n",
        "maxlen = MAX_SEQUENCE_LENGTH = 35\n",
        "sentiments = [\"anger\", \"disgust\", \"fear\", \"joy\", \"sadness\", \"surprise\"]"
      ],
      "execution_count": null,
      "outputs": []
    },
    {
      "cell_type": "code",
      "metadata": {
        "colab_type": "code",
        "id": "Wuw1Af5FfB6j",
        "colab": {}
      },
      "source": [
        "filename = \"models/ft_\" + str(size_word2vec) + \".pkl\"\n",
        "\n",
        "try:\n",
        "    w2v = pickle.load(open(filename, \"rb\"))\n",
        "except:\n",
        "    w2v = gensim.models.FastText(df[\"tokens\"].values, size=size_word2vec, workers=8,)\n",
        "    # w2v = gensim.models.Word2Vec(df['tokens'].values,size=size_word2vec, workers=8, compute_loss=True, )\n",
        "    with open(filename, \"wb\") as output:  # Overwrites any existing file.\n",
        "        pickle.dump(w2v, output, pickle.HIGHEST_PROTOCOL)\n",
        "\n",
        "MAX_NB_WORDS = len(w2v.wv.vocab)\n",
        "nb_words = min(MAX_NB_WORDS, len(w2v.wv.vocab))\n",
        "\n",
        "# training_loss = w2v.get_latest_training_loss() # just w2v\n",
        "# print(training_loss)"
      ],
      "execution_count": null,
      "outputs": []
    },
    {
      "cell_type": "code",
      "metadata": {
        "colab_type": "code",
        "id": "u8iLNelQCH-p",
        "colab": {
          "base_uri": "https://localhost:8080/",
          "height": 34
        },
        "outputId": "97ff23e3-ee88-4090-e58a-249a75b0128d"
      },
      "source": [
        "print(len(w2v.wv.vocab))"
      ],
      "execution_count": null,
      "outputs": [
        {
          "output_type": "stream",
          "text": [
            "18548\n"
          ],
          "name": "stdout"
        }
      ]
    },
    {
      "cell_type": "markdown",
      "metadata": {
        "colab_type": "text",
        "id": "bfMD9MtvtbpE"
      },
      "source": [
        "\n",
        "\n",
        "```\n",
        "# Isto` está formatado como código`\n",
        "```\n",
        "\n",
        "# Word Embeddings\n",
        "\n",
        "## Word2vec\n",
        "Desenvolvido por pesquisadores da Google.\n",
        "\n",
        "Possibilidade de dois tipos de treinamento:\n",
        "-        Skip-Gram\n",
        "-        CBOW\n",
        "\n",
        "## Glove\n",
        "Desenvolvido por pesquisadores de Stanford.\n",
        "\n",
        "Utiliza uma Matriz de co-ocorrência entre palavras em\n",
        "um contexto para aprender seu significado.\n",
        "\n",
        "## FastText\n",
        "Desenvolvido por pesquisadores do Facebook.\n",
        "\n",
        "Consegue aproximar um embedding para palavras não\n",
        "contidas no vocabulário\n",
        "\n",
        "Cada palavra é representado por uma coleção de\n",
        "n-gramas:\n",
        "\n",
        "\n",
        "    renoir = <re, ren, eno, noi, oir,ir>\n",
        "\n",
        "#### links\n",
        "\n",
        "[diferença entre w2v e ft](https://github.com/RaRe-Technologies/gensim/blob/develop/docs/notebooks/Word2Vec_FastText_Comparison.ipynb)\n",
        "\n",
        "[Pretrained fasttext](https://fasttext.cc/docs/en/crawl-vectors.html)\n",
        "\n",
        "\n",
        "[Pretrained Word2Vec](https://code.google.com/archive/p/word2vec/)\n",
        "\n",
        "[Diretorio da USP](http://nilc.icmc.usp.br/nilc/index.php/repositorio-de-word-embeddings-do-nilc)\n",
        "\n",
        "\n",
        "\n",
        "\n"
      ]
    },
    {
      "cell_type": "code",
      "metadata": {
        "colab_type": "code",
        "id": "1Q8TQtS6ryAe",
        "colab": {
          "base_uri": "https://localhost:8080/",
          "height": 527
        },
        "outputId": "9bde7cec-5626-409a-b3e6-70d5abf668fe"
      },
      "source": [
        "from pprint import pprint\n",
        "\n",
        "pprint(w2v.wv.most_similar(positive=[\"woman\", \"king\"], negative=[\"man\"]))\n",
        "pprint(w2v.wv.most_similar(\"gr8\"))\n",
        "# print(w2v.most_similar(positive=['baghdad', 'england'], negative=['london']))\n",
        "pprint(w2v.most_similar(positive=[\"berlin\", \"london\"], negative=[\"england\"]))"
      ],
      "execution_count": null,
      "outputs": [
        {
          "output_type": "stream",
          "text": [
            "[('poking', 0.904056966304779),\n",
            " ('joking', 0.9037274122238159),\n",
            " ('risking', 0.9030530452728271),\n",
            " ('sulking', 0.9016265869140625),\n",
            " ('queuing', 0.9008715748786926),\n",
            " ('mocking', 0.9001327753067017),\n",
            " ('biking', 0.8953320980072021),\n",
            " ('miming', 0.8929245471954346),\n",
            " ('shocking', 0.8927141427993774),\n",
            " ('steveking', 0.8926896452903748)]\n",
            "[('grr', 0.9678244590759277),\n",
            " ('grub', 0.935636579990387),\n",
            " ('greys', 0.9285901188850403),\n",
            " ('greg', 0.908667802810669),\n",
            " ('gravy', 0.9015024900436401),\n",
            " ('graz', 0.8972917199134827),\n",
            " ('grabs', 0.8962656259536743),\n",
            " ('grasp', 0.8939630389213562),\n",
            " ('grrr', 0.8884322047233582),\n",
            " ('grey', 0.869782567024231)]\n",
            "[('jimmyfallon', 0.7413149476051331),\n",
            " ('20min', 0.7389546632766724),\n",
            " ('10min', 0.7329506874084473),\n",
            " ('login', 0.7269462943077087),\n",
            " ('lock', 0.7263875007629395),\n",
            " ('30min', 0.7256354689598083),\n",
            " ('robin', 0.7244484424591064),\n",
            " ('dragon', 0.7223063707351685),\n",
            " ('salon', 0.7194329500198364),\n",
            " ('ron', 0.7169843316078186)]\n"
          ],
          "name": "stdout"
        }
      ]
    },
    {
      "cell_type": "code",
      "metadata": {
        "colab_type": "code",
        "id": "LVlNeegEvklq",
        "colab": {
          "base_uri": "https://localhost:8080/",
          "height": 187
        },
        "outputId": "cfceb1f9-8489-4b81-8619-34768e671f46"
      },
      "source": [
        "w2v.most_similar_cosmul(positive=[\"london\", \"berlin\"])"
      ],
      "execution_count": null,
      "outputs": [
        {
          "output_type": "execute_result",
          "data": {
            "text/plain": [
              "[('balloon', 0.7938939929008484),\n",
              " ('vain', 0.7926188707351685),\n",
              " ('grain', 0.7921704053878784),\n",
              " ('palin', 0.7882828712463379),\n",
              " ('spoon', 0.7841249704360962),\n",
              " ('marktwain', 0.782421350479126),\n",
              " ('stain', 0.7821133732795715),\n",
              " ('boston', 0.7815326452255249),\n",
              " ('sexton', 0.7796744704246521),\n",
              " ('20min', 0.7779760360717773)]"
            ]
          },
          "metadata": {
            "tags": []
          },
          "execution_count": 9
        }
      ]
    },
    {
      "cell_type": "code",
      "metadata": {
        "colab_type": "code",
        "id": "2gIEcGC_fTtB",
        "colab": {
          "base_uri": "https://localhost:8080/",
          "height": 298
        },
        "outputId": "92305d82-df8d-40df-ea67-7a875e6f7a86"
      },
      "source": [
        "sentData = df.loc[df[\"source\"].isin([\"dailydialog\", \"electoraltweets\", \"crowdflower\"])]\n",
        "sentData.drop_duplicates([\"source\"])"
      ],
      "execution_count": null,
      "outputs": [
        {
          "output_type": "execute_result",
          "data": {
            "text/html": [
              "<div>\n",
              "<style scoped>\n",
              "    .dataframe tbody tr th:only-of-type {\n",
              "        vertical-align: middle;\n",
              "    }\n",
              "\n",
              "    .dataframe tbody tr th {\n",
              "        vertical-align: top;\n",
              "    }\n",
              "\n",
              "    .dataframe thead th {\n",
              "        text-align: right;\n",
              "    }\n",
              "</style>\n",
              "<table border=\"1\" class=\"dataframe\">\n",
              "  <thead>\n",
              "    <tr style=\"text-align: right;\">\n",
              "      <th></th>\n",
              "      <th>text</th>\n",
              "      <th>tokens</th>\n",
              "      <th>source</th>\n",
              "      <th>label</th>\n",
              "      <th>anger</th>\n",
              "      <th>disgust</th>\n",
              "      <th>fear</th>\n",
              "      <th>joy</th>\n",
              "      <th>love</th>\n",
              "      <th>noemo</th>\n",
              "      <th>sadness</th>\n",
              "      <th>surprise</th>\n",
              "    </tr>\n",
              "  </thead>\n",
              "  <tbody>\n",
              "    <tr>\n",
              "      <th>12647</th>\n",
              "      <td>@tiffanylue i know  i was listenin to bad habi...</td>\n",
              "      <td>[twitterusername, i, know, i, was, listenin, t...</td>\n",
              "      <td>crowdflower</td>\n",
              "      <td>NaN</td>\n",
              "      <td>0.0</td>\n",
              "      <td>0.0</td>\n",
              "      <td>0.0</td>\n",
              "      <td>0.0</td>\n",
              "      <td>0.0</td>\n",
              "      <td>1.0</td>\n",
              "      <td>0.0</td>\n",
              "      <td>0.0</td>\n",
              "    </tr>\n",
              "    <tr>\n",
              "      <th>52387</th>\n",
              "      <td>I'm a #Republican, but if I have to hear my mo...</td>\n",
              "      <td>[i, 'm, a, republican, but, if, i, have, to, h...</td>\n",
              "      <td>electoraltweets</td>\n",
              "      <td>NaN</td>\n",
              "      <td>0.0</td>\n",
              "      <td>1.0</td>\n",
              "      <td>0.0</td>\n",
              "      <td>0.0</td>\n",
              "      <td>NaN</td>\n",
              "      <td>0.0</td>\n",
              "      <td>0.0</td>\n",
              "      <td>0.0</td>\n",
              "    </tr>\n",
              "    <tr>\n",
              "      <th>86026</th>\n",
              "      <td>The kitchen stinks .</td>\n",
              "      <td>[the, kitchen, stinks]</td>\n",
              "      <td>dailydialog</td>\n",
              "      <td>NaN</td>\n",
              "      <td>0.0</td>\n",
              "      <td>1.0</td>\n",
              "      <td>0.0</td>\n",
              "      <td>0.0</td>\n",
              "      <td>NaN</td>\n",
              "      <td>0.0</td>\n",
              "      <td>0.0</td>\n",
              "      <td>0.0</td>\n",
              "    </tr>\n",
              "  </tbody>\n",
              "</table>\n",
              "</div>"
            ],
            "text/plain": [
              "                                                    text  ... surprise\n",
              "12647  @tiffanylue i know  i was listenin to bad habi...  ...      0.0\n",
              "52387  I'm a #Republican, but if I have to hear my mo...  ...      0.0\n",
              "86026                               The kitchen stinks .  ...      0.0\n",
              "\n",
              "[3 rows x 12 columns]"
            ]
          },
          "metadata": {
            "tags": []
          },
          "execution_count": 10
        }
      ]
    },
    {
      "cell_type": "code",
      "metadata": {
        "colab_type": "code",
        "id": "BZYdpT_CwuzB",
        "colab": {
          "base_uri": "https://localhost:8080/",
          "height": 340
        },
        "outputId": "9e3fa0b0-bf5c-4eb3-d205-966fb75ffc65"
      },
      "source": [
        "sentData.info()"
      ],
      "execution_count": null,
      "outputs": [
        {
          "output_type": "stream",
          "text": [
            "<class 'pandas.core.frame.DataFrame'>\n",
            "Int64Index: 146775 entries, 12647 to 189004\n",
            "Data columns (total 12 columns):\n",
            " #   Column    Non-Null Count   Dtype  \n",
            "---  ------    --------------   -----  \n",
            " 0   text      146775 non-null  object \n",
            " 1   tokens    146775 non-null  object \n",
            " 2   source    146775 non-null  object \n",
            " 3   label     0 non-null       object \n",
            " 4   anger     146775 non-null  float64\n",
            " 5   disgust   146775 non-null  float64\n",
            " 6   fear      146775 non-null  float64\n",
            " 7   joy       146775 non-null  float64\n",
            " 8   love      39740 non-null   float64\n",
            " 9   noemo     146775 non-null  float64\n",
            " 10  sadness   146775 non-null  float64\n",
            " 11  surprise  146775 non-null  float64\n",
            "dtypes: float64(8), object(4)\n",
            "memory usage: 14.6+ MB\n"
          ],
          "name": "stdout"
        }
      ]
    },
    {
      "cell_type": "code",
      "metadata": {
        "colab_type": "code",
        "id": "x0-I2699fe2i",
        "colab": {}
      },
      "source": [
        "def getIndex(t):\n",
        "    try:\n",
        "        return w2v.wv.vocab[t].index\n",
        "    except:\n",
        "        return 0\n",
        "\n",
        "\n",
        "# sentData[sentiments].sum()\n",
        "\n",
        "def getSentData(sentiment):\n",
        "    labels = [sentiment]  # ['anger', 'disgust', 'fear', 'joy', 'sadness', 'surprise']\n",
        "\n",
        "    sequences = [[getIndex(t) for t in comment] for comment in sentData[\"tokens\"]]\n",
        "\n",
        "    data = tf.keras.preprocessing.sequence.pad_sequences(\n",
        "        sequences, maxlen=MAX_SEQUENCE_LENGTH\n",
        "    )\n",
        "\n",
        "    y = sentData[labels].values\n",
        "    # print('Shape of data tensor:', data.shape)\n",
        "    # print('Shape of label tensor:', y.shape)\n",
        "\n",
        "    x_train, x_test, y_train, y_test = train_test_split(\n",
        "        data, y, test_size=0.1, random_state=42\n",
        "    )\n",
        "    # random over sample\n",
        "    ros = RandomOverSampler(random_state=42)\n",
        "    # define the undersampling method\n",
        "    # undersample = NearMiss(version=1, n_neighbors=3)\n",
        "    # transform the dataset\n",
        "    x_test, y_test = ros.fit_resample(x_test, y_test)\n",
        "\n",
        "    x_train, y_train = ros.fit_resample(x_train, y_train)\n",
        "\n",
        "    return x_train, y_train, x_test, y_test"
      ],
      "execution_count": null,
      "outputs": []
    },
    {
      "cell_type": "markdown",
      "metadata": {
        "id": "HlEjL6F3toZj",
        "colab_type": "text"
      },
      "source": [
        "## Formas de se escrever uma rede neural usando Keras\n",
        "\n",
        "O Keras permite que diversos modelos de redes neurais sejam criados com facilidade. Para uma maior liberdade de criação, são usadas duas formas de escrever os modelos como as descritas abaixo:\n",
        "\n",
        "### Modelagem sequencial\n",
        "\n",
        "É o tipo mais comum, normalmente utilizado em redes que nao utilizam operações na forma de grafos.\n",
        "\n",
        "```python\n",
        "from keras.models import Sequential, Model\n",
        "from keras.layers import Dense, Input\n",
        "\n",
        "model = Sequential()\n",
        "model.add(Dense(2, input_dim=1))\n",
        "model.add(Dense(1))\n",
        "```\n",
        "### Modelagem Funcional\n",
        "\n",
        "Usado para definir modelos que dependem de uma estrutura mais complexa como grafos.\n",
        "\n",
        "```python\n",
        "visible = Input(shape=(2,))  # Define the input\n",
        "hidden = Dense(2)(visible)  # Connecting layers\n",
        "model = Model(inputs=visible, outputs=hidden)# Create the model\n",
        "\n",
        "```\n",
        "\n",
        "A escolha da modelagem depende das necessidades do projeto, no caso usado nesse trabalho, foi usada a modelagem funcional, pois é a que melhor satisfaz a s necessidades do projeto"
      ]
    },
    {
      "cell_type": "code",
      "metadata": {
        "colab_type": "code",
        "id": "pI_XKtz0fqhx",
        "colab": {}
      },
      "source": [
        "def model_gru(embedding_matrix, embed_size):\n",
        "\n",
        "    inp = tf.keras.layers.Input(shape=(maxlen,))\n",
        "\n",
        "    x = tf.keras.layers.Embedding(\n",
        "        nb_words, embed_size, weights=[embedding_matrix], trainable=False\n",
        "    )(inp)\n",
        "\n",
        "    x = tf.keras.layers.Bidirectional(tf.keras.layers.GRU(35, return_sequences=True))(x)\n",
        "\n",
        "    avg_pool = tf.keras.layers.GlobalAveragePooling1D()(x)\n",
        "    max_pool = tf.keras.layers.GlobalMaxPooling1D()(x)\n",
        "    conc = tf.keras.layers.concatenate([avg_pool, max_pool])\n",
        "\n",
        "    conc = tf.keras.layers.Dense(70, activation=\"relu\")(conc)\n",
        "    conc = tf.keras.layers.Dropout(0.5)(conc)\n",
        "    outp = tf.keras.layers.Dense(1, activation=\"sigmoid\")(conc)\n",
        "\n",
        "    model = tf.keras.models.Model(inputs=inp, outputs=outp)\n",
        "    model.compile(loss=\"binary_crossentropy\", optimizer=\"adam\", metrics=[\"accuracy\"])\n",
        "    return model"
      ],
      "execution_count": null,
      "outputs": []
    },
    {
      "cell_type": "markdown",
      "metadata": {
        "colab_type": "text",
        "id": "WGseyFel4qV8"
      },
      "source": [
        "# redes recorrentes\n",
        "Esses algoritmos consideram tempo e sequência, eles têm uma dimensão temporal.\n",
        "\n",
        "<img src=\"figures/RNN.png\" style=\"width: 650px;\"/>\n",
        "\n",
        "## Modelo GRU\n",
        "<img src=\"figures/RNN-LSTM-GRU.png\" style=\"width: 650px;\"/>\n",
        "\n",
        "## Modelo Bidirecional\n",
        "\n",
        "<img src=\"figures/bi-gru.png\" style=\"width: 650px;\"/>\n",
        "\n",
        "\n",
        "### links\n",
        "\n",
        "\n",
        "[RNN vs LSTM vs GRU](http://dprogrammer.org/rnn-lstm-gru)\n"
      ]
    },
    {
      "cell_type": "markdown",
      "metadata": {
        "id": "6J7qSgp4toZr",
        "colab_type": "text"
      },
      "source": [
        "<img src=\"https://i.redd.it/jgvyu9ay8vh41.jpg\" style=\"width: 650px;\"/>\n"
      ]
    },
    {
      "cell_type": "code",
      "metadata": {
        "colab_type": "code",
        "id": "PudlN9m4gtBt",
        "colab": {
          "base_uri": "https://localhost:8080/",
          "height": 1000
        },
        "outputId": "bb3f6279-1474-4e51-b785-ae76d2de7d4b"
      },
      "source": [
        "from sklearn import metrics\n",
        "import matplotlib.pyplot as plt\n",
        "\n",
        "\n",
        "def plot_graphs(history, string):\n",
        "    plt.plot(history.history[string])\n",
        "    plt.plot(history.history[\"val_\" + string])\n",
        "    plt.xlabel(\"Epochs\")\n",
        "    plt.ylabel(string)\n",
        "    plt.legend([string, \"val_\" + string])\n",
        "    plt.show()\n",
        "\n",
        "\n",
        "def f1_smart(y_true, y_pred):\n",
        "    thresholds = []\n",
        "    for thresh in np.arange(0.1, 0.501, 0.01):\n",
        "        thresh = np.round(thresh, 2)\n",
        "        res = metrics.f1_score(y_true, (y_pred > thresh).astype(int))\n",
        "        thresholds.append([thresh, res])\n",
        "        printout = \"F1 score at threshold {0} is {1}\".format(thresh, res)\n",
        "        # print(printout)\n",
        "    thresholds.sort(key=lambda x: x[1], reverse=True)\n",
        "    best_thresh = thresholds[0][0]\n",
        "    best_f1 = thresholds[0][1]\n",
        "    print(\"Best threshold: \", best_thresh)\n",
        "    return best_f1, best_thresh\n",
        "\n",
        "\n",
        "def train(sentiment):\n",
        "    model = model_gru(w2v.wv.vectors, size_word2vec)\n",
        "    print(sentiment.upper())\n",
        "    x_train, y_train, x_test, y_test = getSentData(sentiment)\n",
        "    hist = model.fit(\n",
        "        x_train,\n",
        "        y_train,\n",
        "        validation_split=0.1,\n",
        "        epochs=25,\n",
        "        batch_size=250,\n",
        "        shuffle=True,  # ?\n",
        "        verbose=0,\n",
        "    )\n",
        "    score = model.evaluate(x_test, y_test, verbose=1)\n",
        "    y_pred_test = model.predict([x_test], batch_size=250, verbose=0)\n",
        "\n",
        "    f1, threshold = f1_smart(y_test, y_pred_test)\n",
        "    printout = \"Optimal F1: {} at threshold: {}\".format(f1, threshold)\n",
        "    print(printout)\n",
        "    print(\"Train Loss:\", hist.history[\"loss\"][-1])\n",
        "    print(\"Train Accuracy:\", hist.history[\"accuracy\"][-1])\n",
        "\n",
        "    plot_graphs(hist, \"loss\")\n",
        "    plot_graphs(hist, \"accuracy\")\n",
        "\n",
        "    return model\n",
        "\n",
        "\n",
        "models = dict()\n",
        "for s in tqdm(sentiments):\n",
        "    models[s] = train(s)"
      ],
      "execution_count": null,
      "outputs": [
        {
          "output_type": "stream",
          "text": [
            "\r  0%|          | 0/6 [00:00<?, ?it/s]"
          ],
          "name": "stderr"
        },
        {
          "output_type": "stream",
          "text": [
            "ANGER\n",
            "900/900 [==============================] - 7s 8ms/step - loss: 6.6648 - accuracy: 0.6497\n",
            "Best threshold:  0.12\n",
            "Optimal F1: 0.5482755307906619 at threshold: 0.12\n",
            "Train Loss: 0.041904374957084656\n",
            "Train Accuracy: 0.9887357950210571\n"
          ],
          "name": "stdout"
        },
        {
          "output_type": "display_data",
          "data": {
            "image/png": "[encoded data removed]",
            "text/plain": [
              "<Figure size 432x288 with 1 Axes>"
            ]
          },
          "metadata": {
            "tags": [],
            "needs_background": "light"
          }
        },
        {
          "output_type": "display_data",
          "data": {
            "image/png": "[encoded data removed]",
            "text/plain": [
              "<Figure size 432x288 with 1 Axes>"
            ]
          },
          "metadata": {
            "tags": [],
            "needs_background": "light"
          }
        },
        {
          "output_type": "stream",
          "text": [
            "\r 17%|█▋        | 1/6 [07:30<37:33, 450.70s/it]"
          ],
          "name": "stderr"
        },
        {
          "output_type": "stream",
          "text": [
            "DISGUST\n",
            "904/904 [==============================] - 7s 8ms/step - loss: 3.8636 - accuracy: 0.8257\n",
            "Best threshold:  0.44\n",
            "Optimal F1: 0.7913216296787015 at threshold: 0.44\n",
            "Train Loss: 0.02909218519926071\n",
            "Train Accuracy: 0.9935116767883301\n"
          ],
          "name": "stdout"
        },
        {
          "output_type": "display_data",
          "data": {
            "image/png": "[encoded data removed]",
            "text/plain": [
              "<Figure size 432x288 with 1 Axes>"
            ]
          },
          "metadata": {
            "tags": [],
            "needs_background": "light"
          }
        },
        {
          "output_type": "display_data",
          "data": {
            "image/png": "[encoded data removed]",
            "text/plain": [
              "<Figure size 432x288 with 1 Axes>"
            ]
          },
          "metadata": {
            "tags": [],
            "needs_background": "light"
          }
        },
        {
          "output_type": "stream",
          "text": [
            "\r 33%|███▎      | 2/6 [15:01<30:02, 450.66s/it]"
          ],
          "name": "stderr"
        },
        {
          "output_type": "stream",
          "text": [
            "FEAR\n",
            "865/865 [==============================] - 7s 8ms/step - loss: 4.6868 - accuracy: 0.6761\n",
            "Best threshold:  0.1\n",
            "Optimal F1: 0.642478813559322 at threshold: 0.1\n",
            "Train Loss: 0.1269763708114624\n",
            "Train Accuracy: 0.9579001665115356\n"
          ],
          "name": "stdout"
        },
        {
          "output_type": "display_data",
          "data": {
            "image/png": "[encoded data removed]",
            "text/plain": [
              "<Figure size 432x288 with 1 Axes>"
            ]
          },
          "metadata": {
            "tags": [],
            "needs_background": "light"
          }
        },
        {
          "output_type": "display_data",
          "data": {
            "image/png": "[encoded data removed]",
            "text/plain": [
              "<Figure size 432x288 with 1 Axes>"
            ]
          },
          "metadata": {
            "tags": [],
            "needs_background": "light"
          }
        },
        {
          "output_type": "stream",
          "text": [
            "\r 50%|█████     | 3/6 [22:12<22:14, 444.94s/it]"
          ],
          "name": "stderr"
        },
        {
          "output_type": "stream",
          "text": [
            "JOY\n",
            "777/777 [==============================] - 6s 8ms/step - loss: 1.3610 - accuracy: 0.7274\n",
            "Best threshold:  0.1\n",
            "Optimal F1: 0.7466635171843629 at threshold: 0.1\n",
            "Train Loss: 0.27380943298339844\n",
            "Train Accuracy: 0.8879334926605225\n"
          ],
          "name": "stdout"
        },
        {
          "output_type": "display_data",
          "data": {
            "image/png": "[encoded data removed]",
            "text/plain": [
              "<Figure size 432x288 with 1 Axes>"
            ]
          },
          "metadata": {
            "tags": [],
            "needs_background": "light"
          }
        },
        {
          "output_type": "display_data",
          "data": {
            "image/png": "[encoded data removed]",
            "text/plain": [
              "<Figure size 432x288 with 1 Axes>"
            ]
          },
          "metadata": {
            "tags": [],
            "needs_background": "light"
          }
        },
        {
          "output_type": "stream",
          "text": [
            "\r 67%|██████▋   | 4/6 [28:40<14:15, 427.79s/it]"
          ],
          "name": "stderr"
        },
        {
          "output_type": "stream",
          "text": [
            "SADNESS\n",
            "880/880 [==============================] - 7s 8ms/step - loss: 6.5409 - accuracy: 0.6600\n",
            "Best threshold:  0.11\n",
            "Optimal F1: 0.5628623016250119 at threshold: 0.11\n",
            "Train Loss: 0.08614739030599594\n",
            "Train Accuracy: 0.9740318059921265\n"
          ],
          "name": "stdout"
        },
        {
          "output_type": "display_data",
          "data": {
            "image/png": "[encoded data removed]",
            "text/plain": [
              "<Figure size 432x288 with 1 Axes>"
            ]
          },
          "metadata": {
            "tags": [],
            "needs_background": "light"
          }
        },
        {
          "output_type": "display_data",
          "data": {
            "image/png": "[encoded data removed]",
            "text/plain": [
              "<Figure size 432x288 with 1 Axes>"
            ]
          },
          "metadata": {
            "tags": [],
            "needs_background": "light"
          }
        },
        {
          "output_type": "stream",
          "text": [
            "\r 83%|████████▎ | 5/6 [35:58<07:10, 430.80s/it]"
          ],
          "name": "stderr"
        },
        {
          "output_type": "stream",
          "text": [
            "SURPRISE\n",
            "891/891 [==============================] - 7s 8ms/step - loss: 8.1424 - accuracy: 0.6513\n",
            "Best threshold:  0.13\n",
            "Optimal F1: 0.5184965673927001 at threshold: 0.13\n",
            "Train Loss: 0.05623529106378555\n",
            "Train Accuracy: 0.9829152226448059\n"
          ],
          "name": "stdout"
        },
        {
          "output_type": "display_data",
          "data": {
            "image/png": "[encoded data removed]",
            "text/plain": [
              "<Figure size 432x288 with 1 Axes>"
            ]
          },
          "metadata": {
            "tags": [],
            "needs_background": "light"
          }
        },
        {
          "output_type": "display_data",
          "data": {
            "image/png": "[encoded data removed]",
            "text/plain": [
              "<Figure size 432x288 with 1 Axes>"
            ]
          },
          "metadata": {
            "tags": [],
            "needs_background": "light"
          }
        },
        {
          "output_type": "stream",
          "text": [
            "100%|██████████| 6/6 [43:22<00:00, 433.76s/it]\n"
          ],
          "name": "stderr"
        }
      ]
    },
    {
      "cell_type": "code",
      "metadata": {
        "colab_type": "code",
        "id": "yN8pW26ZLS5r",
        "colab": {}
      },
      "source": [
        "def getModelInput(phrase):\n",
        "    x = cleanText(phrase)\n",
        "    x = [getIndex(t) for t in x]\n",
        "    x = pad_sequences([x], maxlen=MAX_SEQUENCE_LENGTH)\n",
        "    return x\n",
        "\n",
        "\n",
        "def getEmotions(phrase):\n",
        "    # sentiments = ['anger', 'disgust', 'fear', 'joy', 'sadness', 'surprise']\n",
        "    x = getModelInput(phrase)\n",
        "    return [models[s].predict(x) for s in sentiments]"
      ],
      "execution_count": null,
      "outputs": []
    },
    {
      "cell_type": "code",
      "metadata": {
        "colab_type": "code",
        "id": "1zoUlEqKMwKF",
        "colab": {}
      },
      "source": [
        "model_json = model_gru(w2v.wv.vectors, size_word2vec).to_json()\n",
        "with open(\"models/bi-gru\" + str(size_word2vec) + \".json\", \"w\") as json_file:\n",
        "    json_file.write(model_json)"
      ],
      "execution_count": null,
      "outputs": []
    },
    {
      "cell_type": "code",
      "metadata": {
        "colab_type": "code",
        "id": "nqpqJvhwn55o",
        "colab": {}
      },
      "source": [
        "for s in sentiments:\n",
        "    models[s].save_weights(\"models/\" + s + \"_weights.h5\")"
      ],
      "execution_count": null,
      "outputs": []
    },
    {
      "cell_type": "code",
      "metadata": {
        "colab_type": "code",
        "id": "qTSOAbH5zZFe",
        "colab": {
          "base_uri": "https://localhost:8080/",
          "height": 476
        },
        "outputId": "436d43f9-ea8c-45b9-d176-d4c61664c069"
      },
      "source": [
        "models[\"anger\"].summary()"
      ],
      "execution_count": null,
      "outputs": [
        {
          "output_type": "stream",
          "text": [
            "Model: \"model\"\n",
            "__________________________________________________________________________________________________\n",
            "Layer (type)                    Output Shape         Param #     Connected to                     \n",
            "==================================================================================================\n",
            "input_1 (InputLayer)            [(None, 35)]         0                                            \n",
            "__________________________________________________________________________________________________\n",
            "embedding (Embedding)           (None, 35, 300)      5564400     input_1[0][0]                    \n",
            "__________________________________________________________________________________________________\n",
            "bidirectional (Bidirectional)   (None, 35, 70)       70770       embedding[0][0]                  \n",
            "__________________________________________________________________________________________________\n",
            "global_average_pooling1d (Globa (None, 70)           0           bidirectional[0][0]              \n",
            "__________________________________________________________________________________________________\n",
            "global_max_pooling1d (GlobalMax (None, 70)           0           bidirectional[0][0]              \n",
            "__________________________________________________________________________________________________\n",
            "concatenate (Concatenate)       (None, 140)          0           global_average_pooling1d[0][0]   \n",
            "                                                                 global_max_pooling1d[0][0]       \n",
            "__________________________________________________________________________________________________\n",
            "dense (Dense)                   (None, 70)           9870        concatenate[0][0]                \n",
            "__________________________________________________________________________________________________\n",
            "dropout (Dropout)               (None, 70)           0           dense[0][0]                      \n",
            "__________________________________________________________________________________________________\n",
            "dense_1 (Dense)                 (None, 1)            71          dropout[0][0]                    \n",
            "==================================================================================================\n",
            "Total params: 5,645,111\n",
            "Trainable params: 80,711\n",
            "Non-trainable params: 5,564,400\n",
            "__________________________________________________________________________________________________\n"
          ],
          "name": "stdout"
        }
      ]
    },
    {
      "cell_type": "code",
      "metadata": {
        "colab_type": "code",
        "id": "ylUzcm2aDQM1",
        "colab": {
          "base_uri": "https://localhost:8080/",
          "height": 758
        },
        "outputId": "9cfcf603-caf1-4d4b-b902-ae7fef1d9b6f"
      },
      "source": [
        "tf.keras.utils.plot_model(\n",
        "    models[\"anger\"],\n",
        "    to_file=\"figures/model.png\",\n",
        "    show_shapes=False,\n",
        "    show_layer_names=False,\n",
        "    rankdir=\"TB\",\n",
        "    expand_nested=False,\n",
        "    dpi=96,\n",
        ")"
      ],
      "execution_count": null,
      "outputs": [
        {
          "output_type": "execute_result",
          "data": {
            "image/png": "[encoded data removed]",
            "text/plain": [
              "<IPython.core.display.Image object>"
            ]
          },
          "metadata": {
            "tags": []
          },
          "execution_count": 19
        }
      ]
    },
    {
      "cell_type": "markdown",
      "metadata": {
        "id": "q_gtr0FxtoaK",
        "colab_type": "text"
      },
      "source": [
        "## Métricas\n",
        "\n",
        "### Erro\n",
        "\n",
        "Para saber se a rede neural está aprendendo ou não, você precisa comparar o valor da saída com o valor esperado. E como a gente computa essa diferença? Existem diferentes formas de se calcular o erro, depende da aplicação.\n",
        "\n",
        "### Accurácia\n",
        "\n",
        "Mostra o quão próximo o valor que a rede retorna está do valor que estamos esperando. É um valor no qual queremos maximizar, e quanto mais perto de 1, melhor é o resultado.\n",
        "\n",
        "### F1 Score\n",
        "\n",
        "O F1 Score é uma métrica que leva em consideração outras duas métricas que são precisão e revocação (recall). \n",
        "Esse método também ajuda a escolher o threshold necessário para classificar a saída como 0 ou 1, pois comparamos direfentes valores e o de melhor F1 score é o escolhido. Esse método é chamado F1 smart.\n",
        "\n",
        "![f1scoer](https://wikimedia.org/api/rest_v1/media/math/render/svg/dd577aee2dd35c5b0e349327528a5ac606c7bbbf)\n",
        "\n",
        "\n",
        "#### Precisão\n",
        "A precisão pode ser interpretada como: dos que eu classifiquei como certos, quantos eram realmente certos?\n",
        "\n",
        "![precision](https://miro.medium.com/proxy/1*YJgI2WpzsAlSRUYQpGGlOw.png)\n",
        "\n",
        "\n",
        "#### Recall\n",
        "O recall nos diz com que frequência o classificador está encontrando exemplos de uma classe. Se for realmente dessa classe, o quanto frequente você classifica como ela? Seria esta a pergunta a ser respondida.\n",
        "\n",
        "![recall](https://miro.medium.com/proxy/1*KANwWvS_apYH-Pi7w2D24Q.png)\n",
        "\n",
        "\n",
        "\n",
        "#### Links\n",
        "https://medium.com/@vilsonrodrigues/machine-learning-o-que-s%C3%A3o-acurracy-precision-recall-e-f1-score-f16762f165b0"
      ]
    },
    {
      "cell_type": "code",
      "metadata": {
        "id": "Nu6FlxxFI6cp",
        "colab_type": "code",
        "colab": {
          "base_uri": "https://localhost:8080/",
          "height": 445
        },
        "outputId": "2063efda-adc2-4bb2-c278-cb0895550a06"
      },
      "source": [
        "!lscpu"
      ],
      "execution_count": null,
      "outputs": [
        {
          "output_type": "stream",
          "text": [
            "Architecture:        x86_64\n",
            "CPU op-mode(s):      32-bit, 64-bit\n",
            "Byte Order:          Little Endian\n",
            "CPU(s):              2\n",
            "On-line CPU(s) list: 0,1\n",
            "Thread(s) per core:  2\n",
            "Core(s) per socket:  1\n",
            "Socket(s):           1\n",
            "NUMA node(s):        1\n",
            "Vendor ID:           GenuineIntel\n",
            "CPU family:          6\n",
            "Model:               63\n",
            "Model name:          Intel(R) Xeon(R) CPU @ 2.30GHz\n",
            "Stepping:            0\n",
            "CPU MHz:             2299.998\n",
            "BogoMIPS:            4599.99\n",
            "Hypervisor vendor:   KVM\n",
            "Virtualization type: full\n",
            "L1d cache:           32K\n",
            "L1i cache:           32K\n",
            "L2 cache:            256K\n",
            "L3 cache:            46080K\n",
            "NUMA node0 CPU(s):   0,1\n",
            "Flags:               fpu vme de pse tsc msr pae mce cx8 apic sep mtrr pge mca cmov pat pse36 clflush mmx fxsr sse sse2 ss ht syscall nx pdpe1gb rdtscp lm constant_tsc rep_good nopl xtopology nonstop_tsc cpuid tsc_known_freq pni pclmulqdq ssse3 fma cx16 pcid sse4_1 sse4_2 x2apic movbe popcnt aes xsave avx f16c rdrand hypervisor lahf_lm abm invpcid_single ssbd ibrs ibpb stibp fsgsbase tsc_adjust bmi1 avx2 smep bmi2 erms invpcid xsaveopt arat md_clear arch_capabilities\n"
          ],
          "name": "stdout"
        }
      ]
    },
    {
      "cell_type": "code",
      "metadata": {
        "id": "OACXTWdXI8SL",
        "colab_type": "code",
        "colab": {
          "base_uri": "https://localhost:8080/",
          "height": 68
        },
        "outputId": "0cca5dc3-a1e2-47bc-988b-5a2ad7c7a2fc"
      },
      "source": [
        "!free -h"
      ],
      "execution_count": null,
      "outputs": [
        {
          "output_type": "stream",
          "text": [
            "              total        used        free      shared  buff/cache   available\n",
            "Mem:            12G        5.0G        279M        261M        7.4G         10G\n",
            "Swap:            0B          0B          0B\n"
          ],
          "name": "stdout"
        }
      ]
    },
    {
      "cell_type": "code",
      "metadata": {
        "id": "aAWmJ7uhI-oE",
        "colab_type": "code",
        "colab": {
          "base_uri": "https://localhost:8080/",
          "height": 357
        },
        "outputId": "f6ed3c25-3f5b-4cb6-e377-dfa7f58a8feb"
      },
      "source": [
        "!nvidia-smi"
      ],
      "execution_count": null,
      "outputs": [
        {
          "output_type": "stream",
          "text": [
            "Tue Jun 23 17:05:15 2020       \n",
            "+-----------------------------------------------------------------------------+\n",
            "| NVIDIA-SMI 450.36.06    Driver Version: 418.67       CUDA Version: 10.1     |\n",
            "|-------------------------------+----------------------+----------------------+\n",
            "| GPU  Name        Persistence-M| Bus-Id        Disp.A | Volatile Uncorr. ECC |\n",
            "| Fan  Temp  Perf  Pwr:Usage/Cap|         Memory-Usage | GPU-Util  Compute M. |\n",
            "|                               |                      |               MIG M. |\n",
            "|===============================+======================+======================|\n",
            "|   0  Tesla K80           Off  | 00000000:00:04.0 Off |                    0 |\n",
            "| N/A   53C    P0    62W / 149W |    494MiB / 11441MiB |      0%      Default |\n",
            "|                               |                      |                 ERR! |\n",
            "+-------------------------------+----------------------+----------------------+\n",
            "                                                                               \n",
            "+-----------------------------------------------------------------------------+\n",
            "| Processes:                                                                  |\n",
            "|  GPU   GI   CI        PID   Type   Process name                  GPU Memory |\n",
            "|        ID   ID                                                   Usage      |\n",
            "|=============================================================================|\n",
            "|  No running processes found                                                 |\n",
            "+-----------------------------------------------------------------------------+\n"
          ],
          "name": "stdout"
        }
      ]
    },
    {
      "cell_type": "code",
      "metadata": {
        "id": "PG4WIIZMbr82",
        "colab_type": "code",
        "colab": {
          "base_uri": "https://localhost:8080/",
          "height": 102
        },
        "outputId": "85a977ba-0c1b-4a82-a9ff-813273665e93"
      },
      "source": [
        "!lsb_release -a"
      ],
      "execution_count": null,
      "outputs": [
        {
          "output_type": "stream",
          "text": [
            "No LSB modules are available.\n",
            "Distributor ID:\tUbuntu\n",
            "Description:\tUbuntu 18.04.3 LTS\n",
            "Release:\t18.04\n",
            "Codename:\tbionic\n"
          ],
          "name": "stdout"
        }
      ]
    }
  ]
}